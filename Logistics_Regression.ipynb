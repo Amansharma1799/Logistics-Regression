{
  "nbformat": 4,
  "nbformat_minor": 0,
  "metadata": {
    "colab": {
      "provenance": []
    },
    "kernelspec": {
      "name": "python3",
      "display_name": "Python 3"
    },
    "language_info": {
      "name": "python"
    }
  },
  "cells": [
    {
      "cell_type": "markdown",
      "source": [
        "# **Theoretical Answers**\n",
        "\n",
        "1. **What is Logistic Regression, and how does it differ from Linear Regression?**\n",
        "   - **Logistic Regression** is a statistical method used for binary classification problems, where the outcome is a binary value (e.g., 0 or 1). It estimates the probability of a binary response based on one or more predictor variables. In contrast, **Linear Regression** is used to predict continuous outcomes and models the relationship between a dependent variable and independent variables by fitting a linear equation to observed data.\n",
        "---\n",
        "2. **What is the mathematical equation of Logistic Regression?**\n",
        "   - The mathematical equation of Logistic Regression is:\n",
        "   \\[\n",
        "   P(Y=1 | X) = \\frac{1}{1 + e^{-(\\beta_0 + \\beta_1 X_1 + \\beta_2 X_2 + \\dots + \\beta_n X_n)}}\n",
        "   \\]\n",
        "   This is the logistic function (also called the Sigmoid function), where \\( \\beta_0 \\) is the intercept, \\( \\beta_1, \\beta_2, \\dots, \\beta_n \\) are the coefficients, and \\( X_1, X_2, \\dots, X_n \\) are the features.\n",
        "---\n",
        "3. **Why do we use the Sigmoid function in Logistic Regression?**\n",
        "   - The Sigmoid function maps any real-valued number into a range between 0 and 1, which is ideal for representing probabilities. This allows logistic regression to output probabilities that a given input belongs to a certain class (0 or 1).\n",
        "---\n",
        "4. **What is the cost function of Logistic Regression?**\n",
        "   - The cost function of Logistic Regression is the **log-loss** or **binary cross-entropy** function:\n",
        "   \\[\n",
        "   J(\\theta) = -\\frac{1}{m} \\sum_{i=1}^{m} \\left[y_i \\log(h_{\\theta}(x_i)) + (1 - y_i) \\log(1 - h_{\\theta}(x_i))\\right]\n",
        "   \\]\n",
        "   Where \\( h_{\\theta}(x_i) \\) is the predicted probability (using the Sigmoid function), and \\( y_i \\) is the actual label (0 or 1).\n",
        "---\n",
        "5. **What is Regularization in Logistic Regression? Why is it needed?**\n",
        "   - **Regularization** in Logistic Regression is used to prevent overfitting by adding a penalty term to the cost function. The two most common types are **L1 regularization (Lasso)** and **L2 regularization (Ridge)**. Regularization discourages overly complex models, encouraging simplicity and generalizability.\n",
        "---\n",
        "6. **Explain the difference between Lasso, Ridge, and Elastic Net regression.**\n",
        "   - **Lasso Regression (L1 Regularization)** adds a penalty equal to the absolute value of the coefficients. It can shrink some coefficients to zero, performing feature selection.\n",
        "   - **Ridge Regression (L2 Regularization)** adds a penalty equal to the square of the coefficients. It shrinks all coefficients, but none are exactly zero.\n",
        "   - **Elastic Net** is a combination of both L1 and L2 regularization, balancing between feature selection (Lasso) and coefficient shrinkage (Ridge).\n",
        "---\n",
        "7. **When should we use Elastic Net instead of Lasso or Ridge?**\n",
        "   - **Elastic Net** is preferred when there are many correlated features, as it can both shrink coefficients and select features, which might not be as effective with Lasso or Ridge alone.\n",
        "---\n",
        "8. **What is the impact of the regularization parameter (λ) in Logistic Regression?**\n",
        "   - The regularization parameter \\( \\lambda \\) controls the strength of the penalty. A larger value of \\( \\lambda \\) results in more regularization, leading to smaller coefficients (more regularization). A smaller \\( \\lambda \\) allows the model to fit more closely to the data, potentially leading to overfitting.\n",
        "---\n",
        "9. **What are the key assumptions of Logistic Regression?**\n",
        "   - Logistic regression assumes:\n",
        "     1. The dependent variable is binary (two classes).\n",
        "     2. The independent variables are linearly related to the log-odds of the dependent variable.\n",
        "     3. No multicollinearity (predictors should not be highly correlated).\n",
        "     4. Observations are independent.\n",
        "---\n",
        "10. **What are some alternatives to Logistic Regression for classification tasks?**\n",
        "    - Some alternatives include **Support Vector Machines (SVM)**, **Decision Trees**, **Random Forests**, **k-Nearest Neighbors (k-NN)**, **Naive Bayes**, and **Neural Networks**.\n",
        "---\n",
        "11. **What are Classification Evaluation Metrics?**\n",
        "    - Common classification evaluation metrics include:\n",
        "      1. **Accuracy**: Proportion of correct predictions.\n",
        "      2. **Precision**: Proportion of true positives among all positive predictions.\n",
        "      3. **Recall (Sensitivity)**: Proportion of true positives among all actual positives.\n",
        "      4. **F1 Score**: Harmonic mean of precision and recall.\n",
        "      5. **ROC Curve and AUC**: Measures the trade-off between true positive rate and false positive rate.\n",
        "---\n",
        "12. **How does class imbalance affect Logistic Regression?**\n",
        "    - **Class imbalance** can cause the model to be biased towards the majority class, resulting in poor performance on the minority class. It can be addressed by techniques such as oversampling, undersampling, or using appropriate evaluation metrics like precision-recall curves or AUC.\n",
        "---\n",
        "13. **What is Hyperparameter Tuning in Logistic Regression?**\n",
        "    - **Hyperparameter tuning** involves adjusting parameters like the regularization strength \\( \\lambda \\), solver type, and others to improve model performance. Techniques like **Grid Search** or **Random Search** can be used to find the best set of hyperparameters.\n",
        "---\n",
        "14. **What are different solvers in Logistic Regression? Which one should be used?**\n",
        "    - Common solvers for Logistic Regression include:\n",
        "      1. **‘liblinear’**: Good for small datasets, supports L1 regularization.\n",
        "      2. **‘newton-cg’**: Good for larger datasets, supports L2 regularization.\n",
        "      3. **‘lbfgs’**: Works well for multi-class classification.\n",
        "      4. **‘saga’**: Useful for large datasets, supports L1 and L2 regularization.\n",
        "    - The choice of solver depends on dataset size and the type of regularization needed.\n",
        "---\n",
        "15. **How is Logistic Regression extended for multiclass classification?**\n",
        "    - Logistic Regression can be extended for multiclass classification using **One-vs-Rest (OvR)** or **Softmax regression** (Multinomial Logistic Regression), where each class is modeled separately or by considering all classes simultaneously.\n",
        "---\n",
        "16. **What are the advantages and disadvantages of Logistic Regression?**\n",
        "    - **Advantages**:\n",
        "      1. Simple and interpretable.\n",
        "      2. Fast to train.\n",
        "      3. Works well for linearly separable data.\n",
        "    - **Disadvantages**:\n",
        "      1. Assumes a linear decision boundary.\n",
        "      2. Prone to underfitting with non-linear data.\n",
        "      3. Sensitive to feature scaling.\n",
        "---\n",
        "17. **What are some use cases of Logistic Regression?**\n",
        "    - Use cases include:\n",
        "      1. **Binary classification tasks** like spam detection, disease diagnosis, and fraud detection.\n",
        "      2. **Multiclass classification** with extensions like One-vs-Rest or Softmax.\n",
        "      3. Predicting probabilities, such as customer churn or loan defaults.\n",
        "---\n",
        "18. **What is the difference between Softmax Regression and Logistic Regression?**\n",
        "    - **Logistic Regression** is used for binary classification, while **Softmax Regression** (also called Multinomial Logistic Regression) is used for multiclass classification. Softmax generalizes the logistic function to handle multiple classes.\n",
        "---\n",
        "19. **How do we choose between One-vs-Rest (OVR) and Softmax for multiclass classification?**\n",
        "    - Use **One-vs-Rest (OVR)** when dealing with binary classifiers for each class, which may be more efficient for a large number of classes. Use **Softmax** when you want to model all classes simultaneously, and it generally performs better when the classes are not linearly separable.\n",
        "---\n",
        "20. **How do we interpret coefficients in Logistic Regression?**\n",
        "    - The **coefficients** in Logistic Regression represent the log-odds change of the dependent variable for a one-unit increase in the corresponding predictor variable. The exponential of the coefficient \\( e^{\\beta} \\) gives the **odds ratio**, which represents the change in the odds of the outcome for a one-unit change in the predictor.\n",
        "---    "
      ],
      "metadata": {
        "id": "1SiT0cCMZpuI"
      }
    },
    {
      "cell_type": "code",
      "source": [
        "import pandas as pd\n",
        "import numpy as np\n",
        "\n",
        "# Synthetic data generation\n",
        "np.random.seed(42)\n",
        "X = np.random.randn(100, 5)  # 100 rows, 5 features\n",
        "y = np.random.randint(0, 2, size=100)  # Binary target variable (0 or 1)\n",
        "\n",
        "# Create DataFrame\n",
        "data = pd.DataFrame(X, columns=[f'Feature_{i+1}' for i in range(X.shape[1])])\n",
        "data['Target'] = y\n",
        "\n",
        "# Save the data to a CSV file\n",
        "csv_file_path = '/content/synthetic_data.csv'\n",
        "data.to_csv(csv_file_path, index=False)\n",
        "\n",
        "# Provide download link\n",
        "from google.colab import files\n",
        "files.download(csv_file_path)\n"
      ],
      "metadata": {
        "colab": {
          "base_uri": "https://localhost:8080/",
          "height": 17
        },
        "id": "sckyROvncwD0",
        "outputId": "e05ec252-6ab5-4dda-f3f4-4b01bff5bf96"
      },
      "execution_count": 47,
      "outputs": [
        {
          "output_type": "display_data",
          "data": {
            "text/plain": [
              "<IPython.core.display.Javascript object>"
            ],
            "application/javascript": [
              "\n",
              "    async function download(id, filename, size) {\n",
              "      if (!google.colab.kernel.accessAllowed) {\n",
              "        return;\n",
              "      }\n",
              "      const div = document.createElement('div');\n",
              "      const label = document.createElement('label');\n",
              "      label.textContent = `Downloading \"${filename}\": `;\n",
              "      div.appendChild(label);\n",
              "      const progress = document.createElement('progress');\n",
              "      progress.max = size;\n",
              "      div.appendChild(progress);\n",
              "      document.body.appendChild(div);\n",
              "\n",
              "      const buffers = [];\n",
              "      let downloaded = 0;\n",
              "\n",
              "      const channel = await google.colab.kernel.comms.open(id);\n",
              "      // Send a message to notify the kernel that we're ready.\n",
              "      channel.send({})\n",
              "\n",
              "      for await (const message of channel.messages) {\n",
              "        // Send a message to notify the kernel that we're ready.\n",
              "        channel.send({})\n",
              "        if (message.buffers) {\n",
              "          for (const buffer of message.buffers) {\n",
              "            buffers.push(buffer);\n",
              "            downloaded += buffer.byteLength;\n",
              "            progress.value = downloaded;\n",
              "          }\n",
              "        }\n",
              "      }\n",
              "      const blob = new Blob(buffers, {type: 'application/binary'});\n",
              "      const a = document.createElement('a');\n",
              "      a.href = window.URL.createObjectURL(blob);\n",
              "      a.download = filename;\n",
              "      div.appendChild(a);\n",
              "      a.click();\n",
              "      div.remove();\n",
              "    }\n",
              "  "
            ]
          },
          "metadata": {}
        },
        {
          "output_type": "display_data",
          "data": {
            "text/plain": [
              "<IPython.core.display.Javascript object>"
            ],
            "application/javascript": [
              "download(\"download_d605dc63-562d-4650-bfb1-012a8991becb\", \"synthetic_data.csv\", 10071)"
            ]
          },
          "metadata": {}
        }
      ]
    },
    {
      "cell_type": "code",
      "source": [
        "# Question 1: Write a Python program that loads a dataset, splits it into training and testing sets, applies Logistic Regression, and prints the model accuracy.\n",
        "\n",
        "from sklearn.model_selection import train_test_split\n",
        "from sklearn.linear_model import LogisticRegression\n",
        "from sklearn.datasets import load_iris\n",
        "from sklearn.metrics import accuracy_score\n",
        "\n",
        "# Load dataset\n",
        "data = load_iris()\n",
        "X = data.data\n",
        "y = data.target\n",
        "\n",
        "# Split data into training and testing sets\n",
        "X_train, X_test, y_train, y_test = train_test_split(X, y, test_size=0.3, random_state=42)\n",
        "\n",
        "# Apply Logistic Regression\n",
        "model = LogisticRegression(max_iter=200)\n",
        "model.fit(X_train, y_train)\n",
        "\n",
        "# Predict on the test set\n",
        "y_pred = model.predict(X_test)\n",
        "\n",
        "# Print model accuracy\n",
        "accuracy = accuracy_score(y_test, y_pred)\n",
        "accuracy\n"
      ],
      "metadata": {
        "colab": {
          "base_uri": "https://localhost:8080/"
        },
        "id": "s8v7Y4HVaC9K",
        "outputId": "14997f09-4078-45ab-e60c-fe50593727ac"
      },
      "execution_count": 46,
      "outputs": [
        {
          "output_type": "execute_result",
          "data": {
            "text/plain": [
              "1.0"
            ]
          },
          "metadata": {},
          "execution_count": 46
        }
      ]
    },
    {
      "cell_type": "code",
      "source": [
        "# Question 2: Write a Python program to apply L1 regularization (Lasso) on a dataset using LogisticRegression (penalty='l1') and print the model accuracy.\n",
        "\n",
        "from sklearn.linear_model import LogisticRegression\n",
        "\n",
        "# Apply L1 regularization (Lasso)\n",
        "model_lasso = LogisticRegression(penalty='l1', solver='liblinear')\n",
        "model_lasso.fit(X_train, y_train)\n",
        "\n",
        "# Predict on the test set\n",
        "y_pred_lasso = model_lasso.predict(X_test)\n",
        "\n",
        "# Print model accuracy\n",
        "accuracy_lasso = accuracy_score(y_test, y_pred_lasso)\n",
        "accuracy_lasso\n"
      ],
      "metadata": {
        "colab": {
          "base_uri": "https://localhost:8080/"
        },
        "id": "8E2RjXgZa8Id",
        "outputId": "ae59533f-2fe4-44c5-9218-ac7480c04d84"
      },
      "execution_count": 45,
      "outputs": [
        {
          "output_type": "execute_result",
          "data": {
            "text/plain": [
              "1.0"
            ]
          },
          "metadata": {},
          "execution_count": 45
        }
      ]
    },
    {
      "cell_type": "code",
      "source": [
        "# Question 3: Write a Python program to train Logistic Regression with L2 regularization (Ridge) using LogisticRegression(penalty='l2'). Print model accuracy and coefficients.\n",
        "\n",
        "# Apply L2 regularization (Ridge)\n",
        "model_ridge = LogisticRegression(penalty='l2', solver='liblinear')\n",
        "model_ridge.fit(X_train, y_train)\n",
        "\n",
        "# Predict on the test set\n",
        "y_pred_ridge = model_ridge.predict(X_test)\n",
        "\n",
        "# Print model accuracy and coefficients\n",
        "accuracy_ridge = accuracy_score(y_test, y_pred_ridge)\n",
        "coefficients = model_ridge.coef_\n",
        "accuracy_ridge, coefficients\n"
      ],
      "metadata": {
        "colab": {
          "base_uri": "https://localhost:8080/"
        },
        "id": "j3suVBn8a7_6",
        "outputId": "58d22c59-1509-4643-a06f-93a18d21a2f3"
      },
      "execution_count": 44,
      "outputs": [
        {
          "output_type": "execute_result",
          "data": {
            "text/plain": [
              "(0.9777777777777777,\n",
              " array([[ 0.36479402,  1.35499766, -2.09628559, -0.92154751],\n",
              "        [ 0.4808915 , -1.58463288,  0.3937527 , -1.09224057],\n",
              "        [-1.5286415 , -1.43244729,  2.3048277 ,  2.08584535]]))"
            ]
          },
          "metadata": {},
          "execution_count": 44
        }
      ]
    },
    {
      "cell_type": "code",
      "source": [
        "# Question 4: Write a Python program to train Logistic Regression with Elastic Net Regularization (penalty='elasticnet').\n",
        "\n",
        "from sklearn.linear_model import LogisticRegression\n",
        "\n",
        "# Apply Elastic Net Regularization\n",
        "model_elasticnet = LogisticRegression(penalty='elasticnet', solver='saga', l1_ratio=0.5)\n",
        "model_elasticnet.fit(X_train, y_train)\n",
        "\n",
        "# Predict on the test set\n",
        "y_pred_en = model_elasticnet.predict(X_test)\n",
        "\n",
        "# Print model accuracy\n",
        "accuracy_en = accuracy_score(y_test, y_pred_en)\n",
        "accuracy_en\n"
      ],
      "metadata": {
        "colab": {
          "base_uri": "https://localhost:8080/"
        },
        "id": "tDNP9Wf-a72y",
        "outputId": "a10596ee-b020-4343-e753-ed7bb5dda507"
      },
      "execution_count": 43,
      "outputs": [
        {
          "output_type": "stream",
          "name": "stderr",
          "text": [
            "/usr/local/lib/python3.11/dist-packages/sklearn/linear_model/_sag.py:348: ConvergenceWarning: The max_iter was reached which means the coef_ did not converge\n",
            "  warnings.warn(\n"
          ]
        },
        {
          "output_type": "execute_result",
          "data": {
            "text/plain": [
              "1.0"
            ]
          },
          "metadata": {},
          "execution_count": 43
        }
      ]
    },
    {
      "cell_type": "code",
      "source": [
        "# Question 5: Write a Python program to train a Logistic Regression model for multiclass classification using multi_class='ovr'.\n",
        "\n",
        "from sklearn.linear_model import LogisticRegression\n",
        "\n",
        "# Apply Logistic Regression with One-vs-Rest strategy for multiclass classification\n",
        "model_ovr = LogisticRegression(multi_class='ovr', solver='liblinear')\n",
        "model_ovr.fit(X_train, y_train)\n",
        "\n",
        "# Predict on the test set\n",
        "y_pred_ovr = model_ovr.predict(X_test)\n",
        "\n",
        "# Print model accuracy\n",
        "accuracy_ovr = accuracy_score(y_test, y_pred_ovr)\n",
        "accuracy_ovr\n"
      ],
      "metadata": {
        "colab": {
          "base_uri": "https://localhost:8080/"
        },
        "id": "AixiK8TMa7t6",
        "outputId": "b8edd504-7131-4caf-a90c-10d8021bb69a"
      },
      "execution_count": 42,
      "outputs": [
        {
          "output_type": "stream",
          "name": "stderr",
          "text": [
            "/usr/local/lib/python3.11/dist-packages/sklearn/linear_model/_logistic.py:1256: FutureWarning: 'multi_class' was deprecated in version 1.5 and will be removed in 1.7. Use OneVsRestClassifier(LogisticRegression(..)) instead. Leave it to its default value to avoid this warning.\n",
            "  warnings.warn(\n"
          ]
        },
        {
          "output_type": "execute_result",
          "data": {
            "text/plain": [
              "0.9777777777777777"
            ]
          },
          "metadata": {},
          "execution_count": 42
        }
      ]
    },
    {
      "cell_type": "code",
      "source": [
        "# Question 6: Write a Python program to apply GridSearchCV to tune the hyperparameters (C and penalty) of Logistic Regression. Print the best parameters and accuracy.\n",
        "\n",
        "from sklearn.model_selection import GridSearchCV\n",
        "from sklearn.linear_model import LogisticRegression\n",
        "\n",
        "# Define the parameter grid\n",
        "param_grid = {'C': [0.1, 1, 10], 'penalty': ['l1', 'l2']}\n",
        "\n",
        "# Apply GridSearchCV\n",
        "grid_search = GridSearchCV(LogisticRegression(solver='liblinear'), param_grid, cv=5)\n",
        "grid_search.fit(X_train, y_train)\n",
        "\n",
        "# Print the best parameters and accuracy\n",
        "best_params = grid_search.best_params_\n",
        "best_accuracy = grid_search.best_score_\n",
        "best_params, best_accuracy\n"
      ],
      "metadata": {
        "colab": {
          "base_uri": "https://localhost:8080/"
        },
        "id": "3_OjJZLoa7kr",
        "outputId": "16322b32-9943-4740-c4f9-af996fa03485"
      },
      "execution_count": 41,
      "outputs": [
        {
          "output_type": "execute_result",
          "data": {
            "text/plain": [
              "({'C': 10, 'penalty': 'l2'}, np.float64(0.9523809523809523))"
            ]
          },
          "metadata": {},
          "execution_count": 41
        }
      ]
    },
    {
      "cell_type": "code",
      "source": [
        "# Question 7: Write a Python program to evaluate Logistic Regression using Stratified K-Fold Cross-Validation. Print the average accuracy.\n",
        "\n",
        "from sklearn.model_selection import StratifiedKFold\n",
        "from sklearn.linear_model import LogisticRegression\n",
        "from sklearn.model_selection import cross_val_score\n",
        "\n",
        "# Apply Stratified K-Fold Cross-Validation\n",
        "skf = StratifiedKFold(n_splits=5)\n",
        "model = LogisticRegression(max_iter=200)\n",
        "\n",
        "# Evaluate using cross-validation\n",
        "cv_scores = cross_val_score(model, X, y, cv=skf)\n",
        "\n",
        "# Print the average accuracy\n",
        "average_accuracy = cv_scores.mean()\n",
        "average_accuracy\n"
      ],
      "metadata": {
        "colab": {
          "base_uri": "https://localhost:8080/"
        },
        "id": "AcxAOU2Qa7b3",
        "outputId": "3b599a7a-9ff1-40ef-e2a6-c114f3c943fd"
      },
      "execution_count": 40,
      "outputs": [
        {
          "output_type": "execute_result",
          "data": {
            "text/plain": [
              "np.float64(0.5)"
            ]
          },
          "metadata": {},
          "execution_count": 40
        }
      ]
    },
    {
      "cell_type": "code",
      "source": [
        "# Question: Write a Python program to load a dataset from a CSV file, apply Logistic Regression, and evaluate its accuracy.\n",
        "\n",
        "# Import necessary libraries\n",
        "import pandas as pd\n",
        "from sklearn.model_selection import train_test_split\n",
        "from sklearn.linear_model import LogisticRegression\n",
        "from sklearn.metrics import accuracy_score\n",
        "\n",
        "# Load the dataset\n",
        "data = pd.read_csv('/content/synthetic_data.csv')\n",
        "\n",
        "# Split the dataset into features (X) and target (y)\n",
        "X = data.drop('Target', axis=1)\n",
        "y = data['Target']\n",
        "\n",
        "# Split the data into training and testing sets\n",
        "X_train, X_test, y_train, y_test = train_test_split(X, y, test_size=0.3, random_state=42)\n",
        "\n",
        "# Create a Logistic Regression model\n",
        "model = LogisticRegression()\n",
        "\n",
        "# Train the model\n",
        "model.fit(X_train, y_train)\n",
        "\n",
        "# Make predictions\n",
        "y_pred = model.predict(X_test)\n",
        "\n",
        "# Evaluate the model's accuracy\n",
        "accuracy = accuracy_score(y_test, y_pred)\n",
        "\n",
        "# Print the accuracy\n",
        "print(f\"Model Accuracy: {accuracy:.4f}\")\n"
      ],
      "metadata": {
        "colab": {
          "base_uri": "https://localhost:8080/"
        },
        "id": "BPf83909a7SO",
        "outputId": "7075b475-8597-4e0c-8ebe-6d3f00fe9dd9"
      },
      "execution_count": 48,
      "outputs": [
        {
          "output_type": "stream",
          "name": "stdout",
          "text": [
            "Model Accuracy: 0.3667\n"
          ]
        }
      ]
    },
    {
      "cell_type": "code",
      "source": [
        "# Question 9: Write a Python program to apply Randomized SearchCV for tuning hyperparameters (C, penalty, solver) in Logistic Regression. Print the best parameters and accuracy.\n",
        "\n",
        "from sklearn.model_selection import RandomizedSearchCV\n",
        "from sklearn.linear_model import LogisticRegression\n",
        "\n",
        "# Define the parameter distribution\n",
        "param_dist = {'C': [0.1, 1, 10], 'penalty': ['l1', 'l2'], 'solver': ['liblinear', 'saga']}\n",
        "\n",
        "# Apply RandomizedSearchCV\n",
        "random_search = RandomizedSearchCV(LogisticRegression(), param_dist, cv=5)\n",
        "random_search.fit(X_train, y_train)\n",
        "\n",
        "# Print the best parameters and accuracy\n",
        "best_params_random = random_search.best_params_\n",
        "best_accuracy_random = random_search.best_score_\n",
        "best_params_random, best_accuracy_random\n"
      ],
      "metadata": {
        "colab": {
          "base_uri": "https://localhost:8080/"
        },
        "id": "wdFm4xNIa7Jg",
        "outputId": "6861c275-b8d6-4110-f8c3-3f6cce9653a8"
      },
      "execution_count": 9,
      "outputs": [
        {
          "output_type": "stream",
          "name": "stderr",
          "text": [
            "/usr/local/lib/python3.11/dist-packages/sklearn/linear_model/_sag.py:348: ConvergenceWarning: The max_iter was reached which means the coef_ did not converge\n",
            "  warnings.warn(\n",
            "/usr/local/lib/python3.11/dist-packages/sklearn/linear_model/_sag.py:348: ConvergenceWarning: The max_iter was reached which means the coef_ did not converge\n",
            "  warnings.warn(\n",
            "/usr/local/lib/python3.11/dist-packages/sklearn/linear_model/_sag.py:348: ConvergenceWarning: The max_iter was reached which means the coef_ did not converge\n",
            "  warnings.warn(\n",
            "/usr/local/lib/python3.11/dist-packages/sklearn/linear_model/_sag.py:348: ConvergenceWarning: The max_iter was reached which means the coef_ did not converge\n",
            "  warnings.warn(\n",
            "/usr/local/lib/python3.11/dist-packages/sklearn/linear_model/_sag.py:348: ConvergenceWarning: The max_iter was reached which means the coef_ did not converge\n",
            "  warnings.warn(\n",
            "/usr/local/lib/python3.11/dist-packages/sklearn/linear_model/_sag.py:348: ConvergenceWarning: The max_iter was reached which means the coef_ did not converge\n",
            "  warnings.warn(\n",
            "/usr/local/lib/python3.11/dist-packages/sklearn/linear_model/_sag.py:348: ConvergenceWarning: The max_iter was reached which means the coef_ did not converge\n",
            "  warnings.warn(\n",
            "/usr/local/lib/python3.11/dist-packages/sklearn/linear_model/_sag.py:348: ConvergenceWarning: The max_iter was reached which means the coef_ did not converge\n",
            "  warnings.warn(\n",
            "/usr/local/lib/python3.11/dist-packages/sklearn/linear_model/_sag.py:348: ConvergenceWarning: The max_iter was reached which means the coef_ did not converge\n",
            "  warnings.warn(\n",
            "/usr/local/lib/python3.11/dist-packages/sklearn/linear_model/_sag.py:348: ConvergenceWarning: The max_iter was reached which means the coef_ did not converge\n",
            "  warnings.warn(\n",
            "/usr/local/lib/python3.11/dist-packages/sklearn/linear_model/_sag.py:348: ConvergenceWarning: The max_iter was reached which means the coef_ did not converge\n",
            "  warnings.warn(\n",
            "/usr/local/lib/python3.11/dist-packages/sklearn/linear_model/_sag.py:348: ConvergenceWarning: The max_iter was reached which means the coef_ did not converge\n",
            "  warnings.warn(\n",
            "/usr/local/lib/python3.11/dist-packages/sklearn/linear_model/_sag.py:348: ConvergenceWarning: The max_iter was reached which means the coef_ did not converge\n",
            "  warnings.warn(\n",
            "/usr/local/lib/python3.11/dist-packages/sklearn/linear_model/_sag.py:348: ConvergenceWarning: The max_iter was reached which means the coef_ did not converge\n",
            "  warnings.warn(\n",
            "/usr/local/lib/python3.11/dist-packages/sklearn/linear_model/_sag.py:348: ConvergenceWarning: The max_iter was reached which means the coef_ did not converge\n",
            "  warnings.warn(\n",
            "/usr/local/lib/python3.11/dist-packages/sklearn/linear_model/_sag.py:348: ConvergenceWarning: The max_iter was reached which means the coef_ did not converge\n",
            "  warnings.warn(\n",
            "/usr/local/lib/python3.11/dist-packages/sklearn/linear_model/_sag.py:348: ConvergenceWarning: The max_iter was reached which means the coef_ did not converge\n",
            "  warnings.warn(\n",
            "/usr/local/lib/python3.11/dist-packages/sklearn/linear_model/_sag.py:348: ConvergenceWarning: The max_iter was reached which means the coef_ did not converge\n",
            "  warnings.warn(\n",
            "/usr/local/lib/python3.11/dist-packages/sklearn/linear_model/_sag.py:348: ConvergenceWarning: The max_iter was reached which means the coef_ did not converge\n",
            "  warnings.warn(\n",
            "/usr/local/lib/python3.11/dist-packages/sklearn/linear_model/_sag.py:348: ConvergenceWarning: The max_iter was reached which means the coef_ did not converge\n",
            "  warnings.warn(\n",
            "/usr/local/lib/python3.11/dist-packages/sklearn/linear_model/_sag.py:348: ConvergenceWarning: The max_iter was reached which means the coef_ did not converge\n",
            "  warnings.warn(\n",
            "/usr/local/lib/python3.11/dist-packages/sklearn/linear_model/_sag.py:348: ConvergenceWarning: The max_iter was reached which means the coef_ did not converge\n",
            "  warnings.warn(\n",
            "/usr/local/lib/python3.11/dist-packages/sklearn/linear_model/_sag.py:348: ConvergenceWarning: The max_iter was reached which means the coef_ did not converge\n",
            "  warnings.warn(\n",
            "/usr/local/lib/python3.11/dist-packages/sklearn/linear_model/_sag.py:348: ConvergenceWarning: The max_iter was reached which means the coef_ did not converge\n",
            "  warnings.warn(\n",
            "/usr/local/lib/python3.11/dist-packages/sklearn/linear_model/_sag.py:348: ConvergenceWarning: The max_iter was reached which means the coef_ did not converge\n",
            "  warnings.warn(\n",
            "/usr/local/lib/python3.11/dist-packages/sklearn/linear_model/_sag.py:348: ConvergenceWarning: The max_iter was reached which means the coef_ did not converge\n",
            "  warnings.warn(\n"
          ]
        },
        {
          "output_type": "execute_result",
          "data": {
            "text/plain": [
              "({'solver': 'saga', 'penalty': 'l1', 'C': 1}, np.float64(0.9714285714285715))"
            ]
          },
          "metadata": {},
          "execution_count": 9
        }
      ]
    },
    {
      "cell_type": "code",
      "source": [
        "# Question 10: Write a Python program to implement One-vs-One (OvO) Multiclass Logistic Regression and print accuracy.\n",
        "\n",
        "from sklearn.linear_model import LogisticRegression\n",
        "from sklearn.multiclass import OneVsOneClassifier\n",
        "\n",
        "# Apply One-vs-One strategy\n",
        "ovo_model = OneVsOneClassifier(LogisticRegression())\n",
        "ovo_model.fit(X_train, y_train)\n",
        "\n",
        "# Predict on the test set\n",
        "y_pred_ovo = ovo_model.predict(X_test)\n",
        "\n",
        "# Print model accuracy\n",
        "accuracy_ovo = accuracy_score(y_test, y_pred_ovo)\n",
        "accuracy_ovo\n"
      ],
      "metadata": {
        "colab": {
          "base_uri": "https://localhost:8080/"
        },
        "id": "rU55p9MYa7AU",
        "outputId": "c27b6b7f-5206-465e-a437-a8e0047dc53c"
      },
      "execution_count": 49,
      "outputs": [
        {
          "output_type": "execute_result",
          "data": {
            "text/plain": [
              "0.36666666666666664"
            ]
          },
          "metadata": {},
          "execution_count": 49
        }
      ]
    },
    {
      "cell_type": "code",
      "source": [
        "# Question 11: Write a Python program to train a Logistic Regression model and visualize the confusion matrix for binary classification.\n",
        "\n",
        "from sklearn.metrics import confusion_matrix\n",
        "import seaborn as sns\n",
        "import matplotlib.pyplot as plt\n",
        "\n",
        "# Apply Logistic Regression\n",
        "model_binary = LogisticRegression(max_iter=200)\n",
        "model_binary.fit(X_train, y_train)\n",
        "\n",
        "# Predict on the test set\n",
        "y_pred_binary = model_binary.predict(X_test)\n",
        "\n",
        "# Compute confusion matrix\n",
        "cm = confusion_matrix(y_test, y_pred_binary)\n",
        "\n",
        "# Visualize confusion matrix\n",
        "sns.heatmap(cm, annot=True, fmt='d', cmap='Blues')\n",
        "plt.title('Confusion Matrix')\n",
        "plt.xlabel('Predicted')\n",
        "plt.ylabel('Actual')\n",
        "plt.show()\n"
      ],
      "metadata": {
        "colab": {
          "base_uri": "https://localhost:8080/",
          "height": 472
        },
        "id": "_dVNaoHMa62y",
        "outputId": "7d002f0d-81a6-4c9d-b334-13def77bcec7"
      },
      "execution_count": 11,
      "outputs": [
        {
          "output_type": "display_data",
          "data": {
            "text/plain": [
              "<Figure size 640x480 with 2 Axes>"
            ],
            "image/png": "[encoded data removed]"
          },
          "metadata": {}
        }
      ]
    },
    {
      "cell_type": "code",
      "source": [
        "# Question 12: Write a Python program to train a Logistic Regression model and evaluate its performance using Precision, Recall, and F1-Score.\n",
        "\n",
        "from sklearn.metrics import precision_score, recall_score, f1_score\n",
        "\n",
        "# Apply Logistic Regression\n",
        "model_precision = LogisticRegression(max_iter=200)\n",
        "model_precision.fit(X_train, y_train)\n",
        "\n",
        "# Predict on the test set\n",
        "y_pred_precision = model_precision.predict(X_test)\n",
        "\n",
        "# Evaluate performance\n",
        "precision = precision_score(y_test, y_pred_precision, average='macro')\n",
        "recall = recall_score(y_test, y_pred_precision, average='macro')\n",
        "f1 = f1_score(y_test, y_pred_precision, average='macro')\n",
        "\n",
        "precision, recall, f1\n"
      ],
      "metadata": {
        "colab": {
          "base_uri": "https://localhost:8080/"
        },
        "id": "urj78wzoa6ul",
        "outputId": "3ad21bea-d871-42cf-ab0a-0c9510445625"
      },
      "execution_count": 12,
      "outputs": [
        {
          "output_type": "execute_result",
          "data": {
            "text/plain": [
              "(1.0, 1.0, 1.0)"
            ]
          },
          "metadata": {},
          "execution_count": 12
        }
      ]
    },
    {
      "cell_type": "code",
      "source": [
        "# Question 13: Write a Python program to train a Logistic Regression model on imbalanced data and apply class weights to improve model performance.\n",
        "\n",
        "# Apply class weights to handle imbalanced data\n",
        "model_class_weight = LogisticRegression(class_weight='balanced', max_iter=200)\n",
        "model_class_weight.fit(X_train, y_train)\n",
        "\n",
        "# Predict on the test set\n",
        "y_pred_class_weight = model_class_weight.predict(X_test)\n",
        "\n",
        "# Print model accuracy\n",
        "accuracy_class_weight = accuracy_score(y_test, y_pred_class_weight)\n",
        "accuracy_class_weight\n"
      ],
      "metadata": {
        "colab": {
          "base_uri": "https://localhost:8080/"
        },
        "id": "aatYn3ZLa6mQ",
        "outputId": "d9e07f67-a1b2-4ac4-a07e-3385c481c795"
      },
      "execution_count": 13,
      "outputs": [
        {
          "output_type": "execute_result",
          "data": {
            "text/plain": [
              "1.0"
            ]
          },
          "metadata": {},
          "execution_count": 13
        }
      ]
    },
    {
      "cell_type": "code",
      "source": [
        "#CSV file for question 14\n",
        "\n",
        "\n",
        "\n",
        "import pandas as pd\n",
        "import numpy as np\n",
        "\n",
        "# Create a synthetic Titanic dataset\n",
        "data = {\n",
        "    'PassengerId': np.arange(1, 101),\n",
        "    'Pclass': np.random.choice([1, 2, 3], size=100),\n",
        "    'Sex': np.random.choice(['male', 'female'], size=100),\n",
        "    'Age': np.random.randint(18, 80, size=100),\n",
        "    'SibSp': np.random.randint(0, 5, size=100),\n",
        "    'Parch': np.random.randint(0, 5, size=100),\n",
        "    'Fare': np.random.uniform(10, 500, size=100),\n",
        "    'Embarked': np.random.choice(['C', 'Q', 'S'], size=100),\n",
        "    'Survived': np.random.choice([0, 1], size=100)  # 0 = Not survived, 1 = Survived\n",
        "}\n",
        "\n",
        "# Convert to a DataFrame\n",
        "titanic_data = pd.DataFrame(data)\n",
        "\n",
        "# Save it as a CSV file\n",
        "titanic_data.to_csv('/content/titanic.csv', index=False)\n",
        "\n",
        "print(\"Synthetic Titanic dataset created successfully!\")\n"
      ],
      "metadata": {
        "colab": {
          "base_uri": "https://localhost:8080/"
        },
        "id": "Z1V7wp3Ma6dW",
        "outputId": "092440e3-ffb5-4b1f-bb56-7a8cb4d38c06"
      },
      "execution_count": 63,
      "outputs": [
        {
          "output_type": "stream",
          "name": "stdout",
          "text": [
            "Synthetic Titanic dataset created successfully!\n"
          ]
        }
      ]
    },
    {
      "cell_type": "code",
      "source": [
        "# Question: Write a Python program to train Logistic Regression on the Titanic dataset, handle missing values, and evaluate performance.\n",
        "\n",
        "# Import necessary libraries\n",
        "from sklearn.model_selection import train_test_split\n",
        "from sklearn.linear_model import LogisticRegression\n",
        "from sklearn.metrics import accuracy_score\n",
        "from sklearn.impute import SimpleImputer\n",
        "\n",
        "# Load Titanic dataset\n",
        "titanic_data = pd.read_csv('/content/titanic.csv')\n",
        "\n",
        "# Handle missing values (for simplicity, we fill missing values with the mean or most frequent value)\n",
        "imputer = SimpleImputer(strategy='most_frequent')\n",
        "titanic_data['Age'] = imputer.fit_transform(titanic_data[['Age']])\n",
        "\n",
        "# Convert categorical features to numeric (Sex, Embarked)\n",
        "titanic_data['Sex'] = titanic_data['Sex'].map({'male': 0, 'female': 1})\n",
        "titanic_data['Embarked'] = titanic_data['Embarked'].map({'C': 0, 'Q': 1, 'S': 2})\n",
        "\n",
        "# Split the dataset into features (X) and target (y)\n",
        "X = titanic_data.drop('Survived', axis=1)\n",
        "y = titanic_data['Survived']\n",
        "\n",
        "# Split the data into training and testing sets\n",
        "X_train, X_test, y_train, y_test = train_test_split(X, y, test_size=0.3, random_state=42)\n",
        "\n",
        "# Create a Logistic Regression model\n",
        "model = LogisticRegression(max_iter=200)\n",
        "\n",
        "# Train the model\n",
        "model.fit(X_train, y_train)\n",
        "\n",
        "# Make predictions\n",
        "y_pred = model.predict(X_test)\n",
        "\n",
        "# Evaluate the model's accuracy\n",
        "accuracy = accuracy_score(y_test, y_pred)\n",
        "\n",
        "# Print the accuracy\n",
        "print(f\"Model Accuracy: {accuracy:.4f}\")\n"
      ],
      "metadata": {
        "colab": {
          "base_uri": "https://localhost:8080/"
        },
        "id": "axQfsQp-e7za",
        "outputId": "a46daf05-b64b-48b7-e9b3-64f667bb0816"
      },
      "execution_count": 64,
      "outputs": [
        {
          "output_type": "stream",
          "name": "stdout",
          "text": [
            "Model Accuracy: 0.4667\n"
          ]
        },
        {
          "output_type": "stream",
          "name": "stderr",
          "text": [
            "/usr/local/lib/python3.11/dist-packages/sklearn/linear_model/_logistic.py:465: ConvergenceWarning: lbfgs failed to converge (status=1):\n",
            "STOP: TOTAL NO. of ITERATIONS REACHED LIMIT.\n",
            "\n",
            "Increase the number of iterations (max_iter) or scale the data as shown in:\n",
            "    https://scikit-learn.org/stable/modules/preprocessing.html\n",
            "Please also refer to the documentation for alternative solver options:\n",
            "    https://scikit-learn.org/stable/modules/linear_model.html#logistic-regression\n",
            "  n_iter_i = _check_optimize_result(\n"
          ]
        }
      ]
    },
    {
      "cell_type": "code",
      "source": [
        "# Question 15: Write a Python program to apply feature scaling (Standardization) before training a Logistic Regression model. Evaluate its accuracy and compare results with and without scaling.\n",
        "\n",
        "from sklearn.preprocessing import StandardScaler\n",
        "\n",
        "# Apply Standardization (Feature Scaling)\n",
        "scaler = StandardScaler()\n",
        "X_train_scaled = scaler.fit_transform(X_train)\n",
        "X_test_scaled = scaler.transform(X_test)\n",
        "\n",
        "# Train Logistic Regression model on scaled data\n",
        "model_scaled = LogisticRegression(max_iter=200)\n",
        "model_scaled.fit(X_train_scaled, y_train)\n",
        "\n",
        "# Predict on the scaled test set\n",
        "y_pred_scaled = model_scaled.predict(X_test_scaled)\n",
        "\n",
        "# Print model accuracy\n",
        "accuracy_scaled = accuracy_score(y_test, y_pred_scaled)\n",
        "\n",
        "# Train Logistic Regression model without scaling\n",
        "model_no_scaled = LogisticRegression(max_iter=200)\n",
        "model_no_scaled.fit(X_train, y_train)\n",
        "\n",
        "# Predict on the non-scaled test set\n",
        "y_pred_no_scaled = model_no_scaled.predict(X_test)\n",
        "\n",
        "# Print model accuracy without scaling\n",
        "accuracy_no_scaled = accuracy_score(y_test, y_pred_no_scaled)\n",
        "\n",
        "accuracy_scaled, accuracy_no_scaled\n"
      ],
      "metadata": {
        "colab": {
          "base_uri": "https://localhost:8080/"
        },
        "id": "LhJmcVkva6Tb",
        "outputId": "22e8dc9b-249e-403a-92fa-9425d9f1e490"
      },
      "execution_count": 50,
      "outputs": [
        {
          "output_type": "execute_result",
          "data": {
            "text/plain": [
              "(0.36666666666666664, 0.36666666666666664)"
            ]
          },
          "metadata": {},
          "execution_count": 50
        }
      ]
    },
    {
      "cell_type": "code",
      "source": [
        "# Question 16: Write a Python program to train Logistic Regression and evaluate its performance using ROC-AUC score.\n",
        "\n",
        "from sklearn.metrics import roc_auc_score\n",
        "\n",
        "# Train Logistic Regression model\n",
        "model_roc = LogisticRegression(max_iter=200)\n",
        "model_roc.fit(X_train, y_train)\n",
        "\n",
        "# Predict on the test set\n",
        "y_pred_roc = model_roc.predict_proba(X_test)[:, 1]  # Get probability for the positive class\n",
        "\n",
        "# Calculate ROC-AUC score\n",
        "roc_auc = roc_auc_score(y_test, y_pred_roc)\n",
        "roc_auc\n"
      ],
      "metadata": {
        "colab": {
          "base_uri": "https://localhost:8080/"
        },
        "id": "pnxMKlfCa6Js",
        "outputId": "5614b5dc-63ef-420d-86dc-74948a6c2450"
      },
      "execution_count": 51,
      "outputs": [
        {
          "output_type": "execute_result",
          "data": {
            "text/plain": [
              "np.float64(0.2986425339366516)"
            ]
          },
          "metadata": {},
          "execution_count": 51
        }
      ]
    },
    {
      "cell_type": "code",
      "source": [
        "# Question 17: Write a Python program to train Logistic Regression using a custom learning rate (C=0.5) and evaluate accuracy.\n",
        "\n",
        "# Train Logistic Regression model with custom learning rate (C=0.5)\n",
        "model_custom_lr = LogisticRegression(C=0.5, max_iter=200)\n",
        "model_custom_lr.fit(X_train, y_train)\n",
        "\n",
        "# Predict on the test set\n",
        "y_pred_custom_lr = model_custom_lr.predict(X_test)\n",
        "\n",
        "# Print model accuracy\n",
        "accuracy_custom_lr = accuracy_score(y_test, y_pred_custom_lr)\n",
        "accuracy_custom_lr\n"
      ],
      "metadata": {
        "colab": {
          "base_uri": "https://localhost:8080/"
        },
        "id": "Dd4hjZv6a5_B",
        "outputId": "d9931ed9-2fc2-48f1-f9ba-f2b210429eb9"
      },
      "execution_count": 52,
      "outputs": [
        {
          "output_type": "execute_result",
          "data": {
            "text/plain": [
              "0.36666666666666664"
            ]
          },
          "metadata": {},
          "execution_count": 52
        }
      ]
    },
    {
      "cell_type": "code",
      "source": [
        "# Question 18: Write a Python program to train Logistic Regression and identify important features based on model coefficients.\n",
        "\n",
        "# Train Logistic Regression model\n",
        "model_features = LogisticRegression(max_iter=200)\n",
        "model_features.fit(X_train, y_train)\n",
        "\n",
        "# Get model coefficients\n",
        "coefficients = model_features.coef_[0]\n",
        "\n",
        "# Get feature names (if available)\n",
        "feature_names = X_train.columns\n",
        "\n",
        "# Display coefficients with corresponding feature names\n",
        "important_features = list(zip(feature_names, coefficients))\n",
        "important_features\n"
      ],
      "metadata": {
        "colab": {
          "base_uri": "https://localhost:8080/"
        },
        "id": "n_YKmGmGa52b",
        "outputId": "ec4e55fc-25a1-4151-da21-78c4e7b42ec9"
      },
      "execution_count": 53,
      "outputs": [
        {
          "output_type": "execute_result",
          "data": {
            "text/plain": [
              "[('Feature_1', np.float64(-0.3970447822322947)),\n",
              " ('Feature_2', np.float64(0.2698618523629194)),\n",
              " ('Feature_3', np.float64(0.12803113856019388)),\n",
              " ('Feature_4', np.float64(0.18093817339021978)),\n",
              " ('Feature_5', np.float64(0.0016458710565557398))]"
            ]
          },
          "metadata": {},
          "execution_count": 53
        }
      ]
    },
    {
      "cell_type": "code",
      "source": [
        "# Question 19: Write a Python program to train Logistic Regression and evaluate its performance using Cohen's Kappa Score.\n",
        "\n",
        "from sklearn.metrics import cohen_kappa_score\n",
        "\n",
        "# Train Logistic Regression model\n",
        "model_kappa = LogisticRegression(max_iter=200)\n",
        "model_kappa.fit(X_train, y_train)\n",
        "\n",
        "# Predict on the test set\n",
        "y_pred_kappa = model_kappa.predict(X_test)\n",
        "\n",
        "# Calculate Cohen's Kappa score\n",
        "kappa_score = cohen_kappa_score(y_test, y_pred_kappa)\n",
        "kappa_score\n"
      ],
      "metadata": {
        "colab": {
          "base_uri": "https://localhost:8080/"
        },
        "id": "C2NVHjoHa5tE",
        "outputId": "daca1cdb-5926-4b58-a118-11991ecc69d1"
      },
      "execution_count": 54,
      "outputs": [
        {
          "output_type": "execute_result",
          "data": {
            "text/plain": [
              "np.float64(-0.3013698630136987)"
            ]
          },
          "metadata": {},
          "execution_count": 54
        }
      ]
    },
    {
      "cell_type": "code",
      "source": [
        "# Question 20: Write a Python program to train Logistic Regression and visualize the Precision-Recall Curve for binary classification.\n",
        "\n",
        "from sklearn.metrics import precision_recall_curve\n",
        "import matplotlib.pyplot as plt\n",
        "\n",
        "# Train Logistic Regression model\n",
        "model_precision_recall = LogisticRegression(max_iter=200)\n",
        "model_precision_recall.fit(X_train, y_train)\n",
        "\n",
        "# Predict probabilities for the positive class\n",
        "y_pred_prob = model_precision_recall.predict_proba(X_test)[:, 1]\n",
        "\n",
        "# Calculate Precision and Recall\n",
        "precision, recall, _ = precision_recall_curve(y_test, y_pred_prob)\n",
        "\n",
        "# Plot Precision-Recall curve\n",
        "plt.plot(recall, precision)\n",
        "plt.xlabel('Recall')\n",
        "plt.ylabel('Precision')\n",
        "plt.title('Precision-Recall Curve')\n",
        "plt.show()\n"
      ],
      "metadata": {
        "colab": {
          "base_uri": "https://localhost:8080/",
          "height": 472
        },
        "id": "2lGmjgsva5kl",
        "outputId": "5904e97a-4901-435f-a0c6-fd825c928e04"
      },
      "execution_count": 55,
      "outputs": [
        {
          "output_type": "display_data",
          "data": {
            "text/plain": [
              "<Figure size 640x480 with 1 Axes>"
            ],
            "image/png": "[encoded data removed]"
          },
          "metadata": {}
        }
      ]
    },
    {
      "cell_type": "code",
      "source": [
        "# Question 21: Write a Python program to train Logistic Regression with different solvers (liblinear, saga, lbfgs) and compare their accuracy.\n",
        "\n",
        "# Train Logistic Regression with different solvers\n",
        "solvers = ['liblinear', 'saga', 'lbfgs']\n",
        "accuracy_results = {}\n",
        "\n",
        "for solver in solvers:\n",
        "    model_solver = LogisticRegression(solver=solver, max_iter=200)\n",
        "    model_solver.fit(X_train, y_train)\n",
        "    y_pred_solver = model_solver.predict(X_test)\n",
        "    accuracy_results[solver] = accuracy_score(y_test, y_pred_solver)\n",
        "\n",
        "accuracy_results\n",
        ""
      ],
      "metadata": {
        "colab": {
          "base_uri": "https://localhost:8080/"
        },
        "id": "XirlMa_Ka5b2",
        "outputId": "cb53dc8f-eca1-4552-8129-50c6a47fd8a5"
      },
      "execution_count": 56,
      "outputs": [
        {
          "output_type": "execute_result",
          "data": {
            "text/plain": [
              "{'liblinear': 0.36666666666666664,\n",
              " 'saga': 0.36666666666666664,\n",
              " 'lbfgs': 0.36666666666666664}"
            ]
          },
          "metadata": {},
          "execution_count": 56
        }
      ]
    },
    {
      "cell_type": "code",
      "source": [
        "# Question 22: Write a Python program to train Logistic Regression and evaluate its performance using Matthews Correlation Coefficient (MCC).\n",
        "\n",
        "from sklearn.metrics import matthews_corrcoef\n",
        "\n",
        "# Train Logistic Regression model\n",
        "model_mcc = LogisticRegression(max_iter=200)\n",
        "model_mcc.fit(X_train, y_train)\n",
        "\n",
        "# Predict on the test set\n",
        "y_pred_mcc = model_mcc.predict(X_test)\n",
        "\n",
        "# Calculate Matthews Correlation Coefficient (MCC)\n",
        "mcc_score = matthews_corrcoef(y_test, y_pred_mcc)\n",
        "mcc_score\n"
      ],
      "metadata": {
        "colab": {
          "base_uri": "https://localhost:8080/"
        },
        "id": "WJctQ4aja5R2",
        "outputId": "232ddf44-34bc-4f58-ce7d-1bbc4ee440e4"
      },
      "execution_count": 57,
      "outputs": [
        {
          "output_type": "execute_result",
          "data": {
            "text/plain": [
              "np.float64(-0.30207927000959933)"
            ]
          },
          "metadata": {},
          "execution_count": 57
        }
      ]
    },
    {
      "cell_type": "code",
      "source": [
        "# Question 23: Write a Python program to train Logistic Regression on both raw and standardized data. Compare their accuracy to see the impact of feature scaling.\n",
        "\n",
        "# Train Logistic Regression model on raw data\n",
        "model_raw = LogisticRegression(max_iter=200)\n",
        "model_raw.fit(X_train, y_train)\n",
        "\n",
        "# Predict on the raw test set\n",
        "y_pred_raw = model_raw.predict(X_test)\n",
        "\n",
        "# Print model accuracy on raw data\n",
        "accuracy_raw = accuracy_score(y_test, y_pred_raw)\n",
        "\n",
        "# Apply feature scaling (Standardization)\n",
        "scaler = StandardScaler()\n",
        "X_train_scaled = scaler.fit_transform(X_train)\n",
        "X_test_scaled = scaler.transform(X_test)\n",
        "\n",
        "# Train Logistic Regression model on scaled data\n",
        "model_scaled = LogisticRegression(max_iter=200)\n",
        "model_scaled.fit(X_train_scaled, y_train)\n",
        "\n",
        "# Predict on the scaled test set\n",
        "y_pred_scaled = model_scaled.predict(X_test_scaled)\n",
        "\n",
        "# Print model accuracy on scaled data\n",
        "accuracy_scaled = accuracy_score(y_test, y_pred_scaled)\n",
        "\n",
        "accuracy_raw, accuracy_scaled\n"
      ],
      "metadata": {
        "colab": {
          "base_uri": "https://localhost:8080/"
        },
        "id": "6DwryqZ2a5IZ",
        "outputId": "5fb50251-4801-4256-9990-ef01dad3d960"
      },
      "execution_count": 58,
      "outputs": [
        {
          "output_type": "execute_result",
          "data": {
            "text/plain": [
              "(0.36666666666666664, 0.36666666666666664)"
            ]
          },
          "metadata": {},
          "execution_count": 58
        }
      ]
    },
    {
      "cell_type": "code",
      "source": [
        "# Question 24: Write a Python program to train Logistic Regression and find the optimal C (regularization strength) using cross-validation.\n",
        "\n",
        "from sklearn.model_selection import cross_val_score\n",
        "\n",
        "# Train Logistic Regression model with cross-validation\n",
        "model_cv = LogisticRegression(max_iter=200)\n",
        "cv_scores = cross_val_score(model_cv, X_train, y_train, cv=5)\n",
        "\n",
        "# Print average cross-validation score\n",
        "cv_scores.mean()\n"
      ],
      "metadata": {
        "colab": {
          "base_uri": "https://localhost:8080/"
        },
        "id": "kkdTpyX3a4-e",
        "outputId": "24c25c63-d480-411e-babc-b43011ea43dc"
      },
      "execution_count": 59,
      "outputs": [
        {
          "output_type": "execute_result",
          "data": {
            "text/plain": [
              "np.float64(0.5857142857142856)"
            ]
          },
          "metadata": {},
          "execution_count": 59
        }
      ]
    },
    {
      "cell_type": "code",
      "source": [
        "# Question 25: Write a Python program to train Logistic Regression, save the trained model using joblib, and load it again to make predictions.\n",
        "\n",
        "import joblib\n",
        "\n",
        "# Train Logistic Regression model\n",
        "model_save = LogisticRegression(max_iter=200)\n",
        "model_save.fit(X_train, y_train)\n",
        "\n",
        "# Save the trained model using joblib\n",
        "joblib.dump(model_save, 'logistic_regression_model.pkl')\n",
        "\n",
        "# Load the saved model\n",
        "loaded_model = joblib.load('logistic_regression_model.pkl')\n",
        "\n",
        "# Predict using the loaded model\n",
        "y_pred_loaded = loaded_model.predict(X_test)\n",
        "\n",
        "# Print accuracy of the loaded model\n",
        "accuracy_loaded = accuracy_score(y_test, y_pred_loaded)\n",
        "accuracy_loaded\n"
      ],
      "metadata": {
        "colab": {
          "base_uri": "https://localhost:8080/"
        },
        "id": "uffSNJPla4l_",
        "outputId": "8ab6a564-c01d-4707-d0f1-d33724c30e9e"
      },
      "execution_count": 60,
      "outputs": [
        {
          "output_type": "execute_result",
          "data": {
            "text/plain": [
              "0.36666666666666664"
            ]
          },
          "metadata": {},
          "execution_count": 60
        }
      ]
    }
  ]
}